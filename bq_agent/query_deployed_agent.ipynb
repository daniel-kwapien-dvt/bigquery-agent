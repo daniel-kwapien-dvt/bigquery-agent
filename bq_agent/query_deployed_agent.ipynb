{
 "cells": [
  {
   "cell_type": "markdown",
   "metadata": {},
   "source": [
    "## Query Deployed Vertex AI Agent Engine Agent\n",
    "\n",
    "This notebook demonstrates how to connect to and query an agent that has been deployed to Vertex AI Agent Engine."
   ]
  },
  {
   "cell_type": "markdown",
   "metadata": {},
   "source": [
    "### 1. Install necessary libraries\n",
    "\n",
    "If you haven't already, you'll need to install the Vertex AI SDK with ADK and Agent Engine support, and python-dotenv."
   ]
  },
  {
   "cell_type": "code",
   "execution_count": 11,
   "metadata": {},
   "outputs": [
    {
     "name": "stdout",
     "output_type": "stream",
     "text": [
      "Note: you may need to restart the kernel to use updated packages.\n"
     ]
    },
    {
     "name": "stderr",
     "output_type": "stream",
     "text": [
      "c:\\Proyectos\\interno\\bq-agent\\.venv\\Scripts\\python.exe: No module named pip\n"
     ]
    }
   ],
   "source": [
    "%pip install google-cloud-aiplatform[adk,agent_engines] python-dotenv"
   ]
  },
  {
   "cell_type": "markdown",
   "metadata": {},
   "source": [
    "### 2. Import libraries and load environment variables"
   ]
  },
  {
   "cell_type": "code",
   "execution_count": 1,
   "metadata": {},
   "outputs": [
    {
     "data": {
      "text/plain": [
       "True"
      ]
     },
     "execution_count": 1,
     "metadata": {},
     "output_type": "execute_result"
    }
   ],
   "source": [
    "import os\n",
    "from dotenv import load_dotenv\n",
    "import vertexai\n",
    "from vertexai import agent_engines\n",
    "\n",
    "# Load environment variables from .env file in the parent directory (if this notebook is in bq_agent/)\n",
    "# Adjust the path if your .env file is elsewhere relative to this notebook.\n",
    "load_dotenv(dotenv_path='.env') # Assumes .env is in the parent of bq_agent, or use 'bq_agent/.env' if notebook is at root\n",
    "load_dotenv() # Also try loading from current dir if notebook is at root with .env"
   ]
  },
  {
   "cell_type": "markdown",
   "metadata": {},
   "source": [
    "### 3. Configure Vertex AI Initialization Parameters\n",
    "\n",
    "These should match the project, location, and staging bucket used for deploying your agent. The `PROJECT_ID` and `LOCATION` are typically loaded from your `.env` file. The `STAGING_BUCKET` is not strictly needed for querying but good practice for consistency if other operations were to be added."
   ]
  },
  {
   "cell_type": "code",
   "execution_count": 3,
   "metadata": {},
   "outputs": [
    {
     "name": "stdout",
     "output_type": "stream",
     "text": [
      "Using Project ID: dvt-sp-agentspace\n",
      "Using Location: us-central1\n"
     ]
    }
   ],
   "source": [
    "PROJECT_ID = os.getenv(\"GOOGLE_CLOUD_PROJECT\")\n",
    "LOCATION = os.getenv(\"GOOGLE_CLOUD_LOCATION\")\n",
    "# STAGING_BUCKET is not directly used for querying a deployed agent but kept for completeness\n",
    "# STAGING_BUCKET = \"gs://your-google-cloud-storage-bucket\" # Replace if needed, or load from .env\n",
    "\n",
    "if not PROJECT_ID or not LOCATION:\n",
    "    raise ValueError(\"GOOGLE_CLOUD_PROJECT and GOOGLE_CLOUD_LOCATION must be set in the environment or .env file.\")\n",
    "\n",
    "print(f\"Using Project ID: {PROJECT_ID}\")\n",
    "print(f\"Using Location: {LOCATION}\")"
   ]
  },
  {
   "cell_type": "markdown",
   "metadata": {},
   "source": [
    "### 4. Initialize Vertex AI"
   ]
  },
  {
   "cell_type": "code",
   "execution_count": 4,
   "metadata": {},
   "outputs": [
    {
     "name": "stdout",
     "output_type": "stream",
     "text": [
      "Vertex AI initialized successfully.\n"
     ]
    }
   ],
   "source": [
    "try:\n",
    "    vertexai.init(\n",
    "        project=PROJECT_ID,\n",
    "        location=LOCATION,\n",
    "        # staging_bucket=STAGING_BUCKET # Not strictly needed for querying\n",
    "    )\n",
    "    print(\"Vertex AI initialized successfully.\")\n",
    "except Exception as e:\n",
    "    print(f\"Error initializing Vertex AI: {e}\")\n",
    "    print(\"Please ensure you have authenticated with Google Cloud (e.g., `gcloud auth application-default login`) and the Vertex AI API is enabled.\")"
   ]
  },
  {
   "cell_type": "markdown",
   "metadata": {},
   "source": [
    "### 5. Get the Deployed Agent\n",
    "\n",
    "**IMPORTANT:** You need to replace `\"YOUR_DEPLOYED_AGENT_RESOURCE_NAME_HERE\"` with the actual `resource_name` of your deployed agent. This `resource_name` is printed to the console when you successfully run `python bq_agent/agent.py` (or the script that deploys your agent)."
   ]
  },
  {
   "cell_type": "code",
   "execution_count": 10,
   "metadata": {},
   "outputs": [
    {
     "name": "stdout",
     "output_type": "stream",
     "text": [
      "Successfully retrieved deployed agent: projects/239233954615/locations/us-central1/reasoningEngines/4531650368018317312\n"
     ]
    }
   ],
   "source": [
    "# Replace this with the actual resource name of your deployed agent\n",
    "DEPLOYED_AGENT_RESOURCE_NAME = \"projects/239233954615/locations/us-central1/reasoningEngines/4531650368018317312\"\n",
    "\n",
    "if DEPLOYED_AGENT_RESOURCE_NAME == \"projects/YOUR_PROJECT_NUMBER/locations/YOUR_LOCATION/reasoningEngines/YOUR_RESOURCE_ID\":\n",
    "    print(\"🛑 STOP! Please replace 'DEPLOYED_AGENT_RESOURCE_NAME' with your actual agent's resource name in the cell above. 🛑\")\n",
    "    remote_app = None\n",
    "else:\n",
    "    try:\n",
    "        remote_app = agent_engines.get(DEPLOYED_AGENT_RESOURCE_NAME)\n",
    "        print(f\"Successfully retrieved deployed agent: {remote_app.resource_name if remote_app else 'Not found'}\")\n",
    "    except Exception as e:\n",
    "        print(f\"Error getting deployed agent '{DEPLOYED_AGENT_RESOURCE_NAME}': {e}\")\n",
    "        print(\"Ensure the resource name is correct and the agent is successfully deployed.\")\n",
    "        remote_app = None"
   ]
  },
  {
   "cell_type": "markdown",
   "metadata": {},
   "source": [
    "### 6. Create a Session with the Deployed Agent"
   ]
  },
  {
   "cell_type": "code",
   "execution_count": 11,
   "metadata": {},
   "outputs": [
    {
     "name": "stdout",
     "output_type": "stream",
     "text": [
      "Created remote session: {'id': '5264035613035724800', 'appName': '4531650368018317312', 'userId': 'notebook_user_001', 'state': {}, 'events': [], 'lastUpdateTime': 1749568785.541678}\n"
     ]
    }
   ],
   "source": [
    "remote_session = None\n",
    "if remote_app:\n",
    "    try:\n",
    "        # Use a unique user_id for each user interacting with the agent\n",
    "        user_id_for_session = \"notebook_user_001\"\n",
    "        remote_session = remote_app.create_session(user_id=user_id_for_session)\n",
    "        print(f\"Created remote session: {remote_session}\")\n",
    "    except Exception as e:\n",
    "        print(f\"Error creating remote session: {e}\")"
   ]
  },
  {
   "cell_type": "markdown",
   "metadata": {},
   "source": [
    "### 7. Send a Query to the Deployed Agent\n",
    "\n",
    "Now you can send queries to your agent. Modify the `message` variable with your question."
   ]
  },
  {
   "cell_type": "code",
   "execution_count": 12,
   "metadata": {},
   "outputs": [
    {
     "name": "stdout",
     "output_type": "stream",
     "text": [
      "\n",
      "Sending query to agent: 'What tables are available in the dataset?'\n",
      "Agent response stream:\n",
      "{'content': {'parts': [{'function_call': {'id': 'adk-48fee473-142d-41db-9956-2b98a1c929f9', 'args': {}, 'name': 'list_dataset_tables'}}], 'role': 'model'}, 'usage_metadata': {'candidates_token_count': 5, 'candidates_tokens_details': [{'modality': 'TEXT', 'token_count': 5}], 'prompt_token_count': 725, 'prompt_tokens_details': [{'modality': 'TEXT', 'token_count': 725}], 'thoughts_token_count': 39, 'total_token_count': 769, 'traffic_type': 'ON_DEMAND'}, 'invocation_id': 'e-9fa20231-318e-47f9-982b-d1914a42962a', 'author': 'BigQueryAssistant', 'actions': {'state_delta': {}, 'artifact_delta': {}, 'requested_auth_configs': {}}, 'long_running_tool_ids': [], 'id': 'jonCuHOZ', 'timestamp': 1749568787.699061}\n",
      "{'content': {'parts': [{'function_response': {'id': 'adk-48fee473-142d-41db-9956-2b98a1c929f9', 'name': 'list_dataset_tables', 'response': {'result': ['boilers', 'directorio_empleados', 'directorio_empleados_struct', 'libros_correctos', 'libros_incorrectos', 'tabla_aleatoria']}}}], 'role': 'user'}, 'invocation_id': 'e-9fa20231-318e-47f9-982b-d1914a42962a', 'author': 'BigQueryAssistant', 'actions': {'state_delta': {}, 'artifact_delta': {}, 'requested_auth_configs': {}}, 'id': 'CtFOEzXr', 'timestamp': 1749568789.506605}\n",
      "{'content': {'parts': [{'text': 'The following tables are available: `boilers`, `directorio_empleados`, `directorio_empleados_struct`, `libros_correctos`, `libros_incorrectos`, `tabla_aleatoria`.'}], 'role': 'model'}, 'usage_metadata': {'candidates_token_count': 47, 'candidates_tokens_details': [{'modality': 'TEXT', 'token_count': 47}], 'prompt_token_count': 765, 'prompt_tokens_details': [{'modality': 'TEXT', 'token_count': 765}], 'thoughts_token_count': 80, 'total_token_count': 892, 'traffic_type': 'ON_DEMAND'}, 'invocation_id': 'e-9fa20231-318e-47f9-982b-d1914a42962a', 'author': 'BigQueryAssistant', 'actions': {'state_delta': {}, 'artifact_delta': {}, 'requested_auth_configs': {}}, 'id': 'AnAb0Cuy', 'timestamp': 1749568789.704956}\n"
     ]
    }
   ],
   "source": [
    "if remote_app and remote_session:\n",
    "    try:\n",
    "        message_to_agent = \"What tables are available in the dataset?\" # Example query\n",
    "        # You can also ask things like: \"Show me the schema for the 'iowa_liquor_sales' table.\"\n",
    "        # Or: \"What are the first 2 entries in the 'iowa_liquor_sales' table?\"\n",
    "        \n",
    "        print(f\"\\nSending query to agent: '{message_to_agent}'\")\n",
    "        print(\"Agent response stream:\")\n",
    "        for event in remote_app.stream_query(\n",
    "            user_id=remote_session[\"userId\"],\n",
    "            session_id=remote_session[\"id\"],\n",
    "            message=message_to_agent,\n",
    "        ):\n",
    "            print(event)\n",
    "    except Exception as e:\n",
    "        print(f\"Error sending query to agent: {e}\")\n",
    "else:\n",
    "    print(\"Cannot send query: remote_app or remote_session is not available. Check previous steps for errors.\")"
   ]
  },
  {
   "cell_type": "markdown",
   "metadata": {},
   "source": [
    "### 8. (Optional) Clean up Deployed Agent\n",
    "\n",
    "If you want to delete the deployed agent from Vertex AI Agent Engine to avoid ongoing charges, you can run the following code. \n",
    "**Be careful, as this will permanently delete the agent and its associated resources.**"
   ]
  },
  {
   "cell_type": "code",
   "execution_count": null,
   "metadata": {},
   "outputs": [],
   "source": [
    "# UNCOMMENT THE CODE BELOW TO DELETE THE AGENT\n",
    "# Make sure DEPLOYED_AGENT_RESOURCE_NAME is correctly set to the agent you want to delete.\n",
    "\n",
    "# if remote_app:\n",
    "#     try:\n",
    "#         print(f\"\\nAttempting to delete agent: {remote_app.resource_name}\")\n",
    "#         remote_app.delete(force=True) # force=True also deletes child resources like sessions\n",
    "#         print(f\"Successfully initiated deletion of agent: {remote_app.resource_name}\")\n",
    "#     except Exception as e:\n",
    "#         print(f\"Error deleting agent {remote_app.resource_name}: {e}\")\n",
    "# elif DEPLOYED_AGENT_RESOURCE_NAME and DEPLOYED_AGENT_RESOURCE_NAME != \"projects/YOUR_PROJECT_NUMBER/locations/YOUR_LOCATION/reasoningEngines/YOUR_RESOURCE_ID\":\n",
    "#     # If remote_app wasn't loaded but we have a resource name, try to get it then delete\n",
    "#     try:\n",
    "#         app_to_delete = agent_engines.get(DEPLOYED_AGENT_RESOURCE_NAME)\n",
    "#         if app_to_delete:\n",
    "#             print(f\"\\nAttempting to delete agent: {app_to_delete.resource_name}\")\n",
    "#             app_to_delete.delete(force=True)\n",
    "#             print(f\"Successfully initiated deletion of agent: {app_to_delete.resource_name}\")\n",
    "#         else:\n",
    "#             print(f\"Agent not found for deletion: {DEPLOYED_AGENT_RESOURCE_NAME}\")\n",
    "#     except Exception as e:\n",
    "#         print(f\"Error finding or deleting agent {DEPLOYED_AGENT_RESOURCE_NAME}: {e}\")\n",
    "# else:\n",
    "#     print(\"Agent not loaded or resource name not set, cannot delete.\")"
   ]
  }
 ],
 "metadata": {
  "kernelspec": {
   "display_name": ".venv",
   "language": "python",
   "name": "python3"
  },
  "language_info": {
   "codemirror_mode": {
    "name": "ipython",
    "version": 3
   },
   "file_extension": ".py",
   "mimetype": "text/x-python",
   "name": "python",
   "nbconvert_exporter": "python",
   "pygments_lexer": "ipython3",
   "version": "3.12.9"
  }
 },
 "nbformat": 4,
 "nbformat_minor": 2
}
